{
 "cells": [
  {
   "cell_type": "code",
   "execution_count": 161,
   "metadata": {},
   "outputs": [],
   "source": [
    "import pandas as pd\n",
    "import pyodbc\n",
    "from mlxtend.preprocessing import TransactionEncoder\n",
    "from mlxtend.frequent_patterns import apriori\n"
   ]
  },
  {
   "cell_type": "markdown",
   "metadata": {},
   "source": []
  },
  {
   "cell_type": "code",
   "execution_count": 162,
   "metadata": {},
   "outputs": [],
   "source": [
    "sales_go = pyodbc.connect(r'Driver={Microsoft Access Driver (*.mdb, *.accdb)};DBQ=C:/Users/Jonat/Downloads/GO-databases schoon/go_sales_schoon.accdb;')"
   ]
  },
  {
   "cell_type": "code",
   "execution_count": 163,
   "metadata": {},
   "outputs": [
    {
     "name": "stderr",
     "output_type": "stream",
     "text": [
      "C:\\Users\\Jonat\\AppData\\Local\\Temp\\ipykernel_26776\\3130275231.py:1: UserWarning: pandas only supports SQLAlchemy connectable (engine/connection) or database string URI or sqlite3 DBAPI2 connection. Other DBAPI2 objects are not tested. Please consider using SQLAlchemy.\n",
      "  product = pd.read_sql(\"SELECT * FROM product\", sales_go)\n",
      "C:\\Users\\Jonat\\AppData\\Local\\Temp\\ipykernel_26776\\3130275231.py:2: UserWarning: pandas only supports SQLAlchemy connectable (engine/connection) or database string URI or sqlite3 DBAPI2 connection. Other DBAPI2 objects are not tested. Please consider using SQLAlchemy.\n",
      "  order_details = pd.read_sql(\"SELECT * FROM order_details\", sales_go)\n",
      "C:\\Users\\Jonat\\AppData\\Local\\Temp\\ipykernel_26776\\3130275231.py:3: UserWarning: pandas only supports SQLAlchemy connectable (engine/connection) or database string URI or sqlite3 DBAPI2 connection. Other DBAPI2 objects are not tested. Please consider using SQLAlchemy.\n",
      "  order_header = pd.read_sql(\"SELECT * FROM order_header\", sales_go)\n",
      "C:\\Users\\Jonat\\AppData\\Local\\Temp\\ipykernel_26776\\3130275231.py:4: UserWarning: pandas only supports SQLAlchemy connectable (engine/connection) or database string URI or sqlite3 DBAPI2 connection. Other DBAPI2 objects are not tested. Please consider using SQLAlchemy.\n",
      "  product_type = pd.read_sql(\"SELECT * FROM product_type\", sales_go)\n"
     ]
    }
   ],
   "source": [
    "product = pd.read_sql(\"SELECT * FROM product\", sales_go)\n",
    "order_details = pd.read_sql(\"SELECT * FROM order_details\", sales_go)\n",
    "order_header = pd.read_sql(\"SELECT * FROM order_header\", sales_go)\n",
    "product_type = pd.read_sql(\"SELECT * FROM product_type\", sales_go)\n",
    "\n"
   ]
  },
  {
   "cell_type": "markdown",
   "metadata": {},
   "source": [
    "# Data merging"
   ]
  },
  {
   "cell_type": "code",
   "execution_count": 164,
   "metadata": {},
   "outputs": [
    {
     "data": {
      "text/html": [
       "<div>\n",
       "<style scoped>\n",
       "    .dataframe tbody tr th:only-of-type {\n",
       "        vertical-align: middle;\n",
       "    }\n",
       "\n",
       "    .dataframe tbody tr th {\n",
       "        vertical-align: top;\n",
       "    }\n",
       "\n",
       "    .dataframe thead th {\n",
       "        text-align: right;\n",
       "    }\n",
       "</style>\n",
       "<table border=\"1\" class=\"dataframe\">\n",
       "  <thead>\n",
       "    <tr style=\"text-align: right;\">\n",
       "      <th></th>\n",
       "      <th>ORDER_NUMBER</th>\n",
       "      <th>PRODUCT_TYPE_EN</th>\n",
       "    </tr>\n",
       "  </thead>\n",
       "  <tbody>\n",
       "    <tr>\n",
       "      <th>0</th>\n",
       "      <td>1258</td>\n",
       "      <td>Sleeping Bags</td>\n",
       "    </tr>\n",
       "    <tr>\n",
       "      <th>1</th>\n",
       "      <td>1352</td>\n",
       "      <td>Sleeping Bags</td>\n",
       "    </tr>\n",
       "    <tr>\n",
       "      <th>2</th>\n",
       "      <td>1544</td>\n",
       "      <td>Sleeping Bags</td>\n",
       "    </tr>\n",
       "    <tr>\n",
       "      <th>3</th>\n",
       "      <td>1249</td>\n",
       "      <td>Sleeping Bags</td>\n",
       "    </tr>\n",
       "    <tr>\n",
       "      <th>4</th>\n",
       "      <td>1268</td>\n",
       "      <td>Sleeping Bags</td>\n",
       "    </tr>\n",
       "    <tr>\n",
       "      <th>...</th>\n",
       "      <td>...</td>\n",
       "      <td>...</td>\n",
       "    </tr>\n",
       "    <tr>\n",
       "      <th>43058</th>\n",
       "      <td>9174</td>\n",
       "      <td>Tents</td>\n",
       "    </tr>\n",
       "    <tr>\n",
       "      <th>43059</th>\n",
       "      <td>8529</td>\n",
       "      <td>Tents</td>\n",
       "    </tr>\n",
       "    <tr>\n",
       "      <th>43060</th>\n",
       "      <td>8628</td>\n",
       "      <td>Tents</td>\n",
       "    </tr>\n",
       "    <tr>\n",
       "      <th>43061</th>\n",
       "      <td>8672</td>\n",
       "      <td>Tents</td>\n",
       "    </tr>\n",
       "    <tr>\n",
       "      <th>43062</th>\n",
       "      <td>8551</td>\n",
       "      <td>Tents</td>\n",
       "    </tr>\n",
       "  </tbody>\n",
       "</table>\n",
       "<p>43063 rows × 2 columns</p>\n",
       "</div>"
      ],
      "text/plain": [
       "      ORDER_NUMBER PRODUCT_TYPE_EN\n",
       "0             1258   Sleeping Bags\n",
       "1             1352   Sleeping Bags\n",
       "2             1544   Sleeping Bags\n",
       "3             1249   Sleeping Bags\n",
       "4             1268   Sleeping Bags\n",
       "...            ...             ...\n",
       "43058         9174           Tents\n",
       "43059         8529           Tents\n",
       "43060         8628           Tents\n",
       "43061         8672           Tents\n",
       "43062         8551           Tents\n",
       "\n",
       "[43063 rows x 2 columns]"
      ]
     },
     "execution_count": 164,
     "metadata": {},
     "output_type": "execute_result"
    }
   ],
   "source": [
    "product = pd.merge(product, product_type)\n",
    "order_details = pd.merge(order_details, product)\n",
    "order_details = order_details[[\"ORDER_NUMBER\", \"PRODUCT_TYPE_EN\"]]\n",
    "order_details"
   ]
  },
  {
   "attachments": {},
   "cell_type": "markdown",
   "metadata": {},
   "source": [
    "# Frequency items"
   ]
  },
  {
   "attachments": {},
   "cell_type": "markdown",
   "metadata": {},
   "source": [
    "### Turning the product_type_en into true and false columns.\n",
    "In the first section of the code, i make the columns of product_type more paletable for the apriori library, since it only takes in boolean values. In the second section, i use the apriori library to go through the tables of order_details, to see all of the combinations and the frequency of them appearring."
   ]
  },
  {
   "cell_type": "code",
   "execution_count": 165,
   "metadata": {},
   "outputs": [
    {
     "data": {
      "text/html": [
       "<div>\n",
       "<style scoped>\n",
       "    .dataframe tbody tr th:only-of-type {\n",
       "        vertical-align: middle;\n",
       "    }\n",
       "\n",
       "    .dataframe tbody tr th {\n",
       "        vertical-align: top;\n",
       "    }\n",
       "\n",
       "    .dataframe thead th {\n",
       "        text-align: right;\n",
       "    }\n",
       "</style>\n",
       "<table border=\"1\" class=\"dataframe\">\n",
       "  <thead>\n",
       "    <tr style=\"text-align: right;\">\n",
       "      <th></th>\n",
       "      <th>support</th>\n",
       "      <th>itemsets</th>\n",
       "      <th>length</th>\n",
       "    </tr>\n",
       "  </thead>\n",
       "  <tbody>\n",
       "    <tr>\n",
       "      <th>15</th>\n",
       "      <td>0.287873</td>\n",
       "      <td>(Lanterns, Cooking Gear)</td>\n",
       "      <td>2</td>\n",
       "    </tr>\n",
       "    <tr>\n",
       "      <th>16</th>\n",
       "      <td>0.205597</td>\n",
       "      <td>(Packs, Cooking Gear)</td>\n",
       "      <td>2</td>\n",
       "    </tr>\n",
       "    <tr>\n",
       "      <th>17</th>\n",
       "      <td>0.230784</td>\n",
       "      <td>(Sleeping Bags, Cooking Gear)</td>\n",
       "      <td>2</td>\n",
       "    </tr>\n",
       "    <tr>\n",
       "      <th>18</th>\n",
       "      <td>0.224067</td>\n",
       "      <td>(Lanterns, Packs)</td>\n",
       "      <td>2</td>\n",
       "    </tr>\n",
       "    <tr>\n",
       "      <th>19</th>\n",
       "      <td>0.239179</td>\n",
       "      <td>(Lanterns, Sleeping Bags)</td>\n",
       "      <td>2</td>\n",
       "    </tr>\n",
       "    <tr>\n",
       "      <th>20</th>\n",
       "      <td>0.213060</td>\n",
       "      <td>(Lanterns, Tents)</td>\n",
       "      <td>2</td>\n",
       "    </tr>\n",
       "  </tbody>\n",
       "</table>\n",
       "</div>"
      ],
      "text/plain": [
       "     support                       itemsets  length\n",
       "15  0.287873       (Lanterns, Cooking Gear)       2\n",
       "16  0.205597          (Packs, Cooking Gear)       2\n",
       "17  0.230784  (Sleeping Bags, Cooking Gear)       2\n",
       "18  0.224067              (Lanterns, Packs)       2\n",
       "19  0.239179      (Lanterns, Sleeping Bags)       2\n",
       "20  0.213060              (Lanterns, Tents)       2"
      ]
     },
     "execution_count": 165,
     "metadata": {},
     "output_type": "execute_result"
    }
   ],
   "source": [
    "transactions = order_details.groupby('ORDER_NUMBER')['PRODUCT_TYPE_EN'].apply(list).tolist()\n",
    "\n",
    "# use the TransactionEncoder to encode the transactions as a matrix of 1s and 0s\n",
    "te = TransactionEncoder()\n",
    "te_ary = te.fit(transactions).transform(transactions)\n",
    "\n",
    "# convert the matrix into a pandas dataframe\n",
    "order_details = pd.DataFrame(te_ary, columns=te.columns_)\n",
    "\n",
    "# use the Apriori algorithm to find frequent itemsets\n",
    "frequent_itemsets = apriori(order_details, min_support=0.20, use_colnames=True)\n",
    "frequent_itemsets['length'] = frequent_itemsets['itemsets'].apply(lambda x: len(x))\n",
    "frequent_itemsets = frequent_itemsets[ (frequent_itemsets['length'] > 1)]\n",
    "frequent_itemsets"
   ]
  },
  {
   "attachments": {},
   "cell_type": "markdown",
   "metadata": {},
   "source": [
    "## The plot thinkens...\n",
    "Here i grab the same variable as above, and place into a graph."
   ]
  },
  {
   "cell_type": "code",
   "execution_count": 166,
   "metadata": {},
   "outputs": [
    {
     "data": {
      "text/plain": [
       "<AxesSubplot: >"
      ]
     },
     "execution_count": 166,
     "metadata": {},
     "output_type": "execute_result"
    },
    {
     "data": {
      "image/png": "[encoded data removed]",
      "text/plain": [
       "<Figure size 640x480 with 2 Axes>"
      ]
     },
     "metadata": {},
     "output_type": "display_data"
    }
   ],
   "source": [
    "import matplotlib.pyplot as plt\n",
    "import seaborn as sns\n",
    "\n",
    "# create a bar chart of the most frequent itemsets\n",
    "sns.barplot(x='support', y='itemsets', data=frequent_itemsets.nlargest(20, 'support'))\n",
    "\n",
    "# create a heatmap of the itemsets and their support values\n",
    "itemsets = frequent_itemsets['itemsets'].tolist()\n",
    "support = frequent_itemsets['support'].tolist()\n",
    "itemset_dict = {}\n",
    "for i, itemset in enumerate(itemsets):\n",
    "    # print(itemset)\n",
    "    # if len(itemset == 1):\n",
    "    #     continue\n",
    "    itemset_dict[str(itemset)] = support[i]\n",
    "df_support = pd.DataFrame(columns=itemset_dict.keys())\n",
    "df_support.loc[0] = itemset_dict.values()\n",
    "sns.heatmap(df_support, cmap=\"YlGnBu\")"
   ]
  }
 ],
 "metadata": {
  "kernelspec": {
   "display_name": "Python 3 (ipykernel)",
   "language": "python",
   "name": "python3"
  },
  "language_info": {
   "codemirror_mode": {
    "name": "ipython",
    "version": 3
   },
   "file_extension": ".py",
   "mimetype": "text/x-python",
   "name": "python",
   "nbconvert_exporter": "python",
   "pygments_lexer": "ipython3",
   "version": "3.10.9"
  }
 },
 "nbformat": 4,
 "nbformat_minor": 2
}
